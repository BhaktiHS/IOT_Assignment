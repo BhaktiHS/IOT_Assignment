{
 "cells": [
  {
   "cell_type": "markdown",
   "id": "39456c65-ea02-4b47-9d0e-6e8bb10fea27",
   "metadata": {},
   "source": [
    "#### 3.  Write a NumPy program to create an array of 10 zeros, 10 ones, 10    fives, 10 tens, 10 twentys and 10 fiftys."
   ]
  },
  {
   "cell_type": "code",
   "execution_count": 3,
   "id": "36208e11-194d-484e-bee3-ef394a919db6",
   "metadata": {},
   "outputs": [],
   "source": [
    "import numpy as np\n",
    "\n",
    "print(f\"array of 10 zeros =\" {np.zeros(10)})\n",
    "\n"
   ]
  },
  {
   "cell_type": "markdown",
   "id": "bb0e4e9a-0d43-4ccb-9f7d-bc181bc494da",
   "metadata": {},
   "source": [
    "print(\"a\")"
   ]
  },
  {
   "cell_type": "code",
   "execution_count": null,
   "id": "77cd940f-2fee-4628-a20b-27815973423d",
   "metadata": {},
   "outputs": [],
   "source": [
    "import numpy as np\n",
    "\n",
    "a1 = np.array([5,2])\n",
    "a2 = np.array([1,3])\n",
    "print(\"array elements:\")\n",
    "print(a1)\n",
    "print(a2)\n",
    "print(f\"Comparison for Greater number [a1:a2]: {np.greater(a1,a2)}\")\n",
    "print(f\"Comparison for Greater_equal number[a1,a2]: {np.greater_equal(a1,a2)}\")\n",
    "print(f\"Comparison for Lesser number[a1,a2]: {np.less(a1,a2)}\")\n",
    "print(f\"Comparison for Less_equal number[a1,a2]: {np.less_equal(a1,a2)}\")"
   ]
  }
 ],
 "metadata": {
  "kernelspec": {
   "display_name": "Python 3 (ipykernel)",
   "language": "python",
   "name": "python3"
  },
  "language_info": {
   "codemirror_mode": {
    "name": "ipython",
    "version": 3
   },
   "file_extension": ".py",
   "mimetype": "text/x-python",
   "name": "python",
   "nbconvert_exporter": "python",
   "pygments_lexer": "ipython3",
   "version": "3.10.12"
  }
 },
 "nbformat": 4,
 "nbformat_minor": 5
}
