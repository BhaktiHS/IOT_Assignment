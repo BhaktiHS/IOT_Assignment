{
 "cells": [
  {
   "cell_type": "markdown",
   "id": "1114f168-5555-461c-8b4b-e300336839d8",
   "metadata": {},
   "source": [
    "#### 2. Write a NumPy program to create an element-wise comparison (greater,    greater_equal, less and less_equal) of two given arrays."
   ]
  },
  {
   "cell_type": "code",
   "execution_count": 7,
   "id": "563bfbc1-a2bc-45a6-b675-782447a17ddf",
   "metadata": {},
   "outputs": [
    {
     "name": "stdout",
     "output_type": "stream",
     "text": [
      "array elements:\n",
      "[5 2]\n",
      "[1 3]\n",
      "Comparison for Greater number [a1:a2]: [ True False]\n",
      "Comparison for Greater_equal number[a1,a2]: [ True False]\n",
      "Comparison for Lesser number[a1,a2]: [False  True]\n",
      "Comparison for Less_equal number[a1,a2]: [False  True]\n",
      "The history saving thread hit an unexpected error (OperationalError('attempt to write a readonly database')).History will not be written to the database.\n"
     ]
    }
   ],
   "source": [
    "import numpy as np\n",
    "\n",
    "a1 = np.array([5,2])\n",
    "a2 = np.array([1,3])\n",
    "print(\"array elements:\")\n",
    "print(a1)\n",
    "print(a2)\n",
    "print(f\"Comparison for Greater number [a1:a2]: {np.greater(a1,a2)}\")\n",
    "print(f\"Comparison for Greater_equal number[a1,a2]: {np.greater_equal(a1,a2)}\")\n",
    "print(f\"Comparison for Lesser number[a1,a2]: {np.less(a1,a2)}\")\n",
    "print(f\"Comparison for Less_equal number[a1,a2]: {np.less_equal(a1,a2)}\")"
   ]
  },
  {
   "cell_type": "code",
   "execution_count": null,
   "id": "440ef780-b306-4303-9373-5d0d762dfff9",
   "metadata": {},
   "outputs": [],
   "source": []
  }
 ],
 "metadata": {
  "kernelspec": {
   "display_name": "Python 3 (ipykernel)",
   "language": "python",
   "name": "python3"
  },
  "language_info": {
   "codemirror_mode": {
    "name": "ipython",
    "version": 3
   },
   "file_extension": ".py",
   "mimetype": "text/x-python",
   "name": "python",
   "nbconvert_exporter": "python",
   "pygments_lexer": "ipython3",
   "version": "3.10.12"
  }
 },
 "nbformat": 4,
 "nbformat_minor": 5
}
