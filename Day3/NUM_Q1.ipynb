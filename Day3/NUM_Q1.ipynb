{
 "cells": [
  {
   "cell_type": "markdown",
   "id": "1cc16dc2-329a-4bfa-9a0a-3debdf47c14e",
   "metadata": {},
   "source": [
    "#### 1. Write a NumPy program to create an array with the values 1, 7, 13, 105    and determine the size of the memory occupied by the array."
   ]
  },
  {
   "cell_type": "code",
   "execution_count": 7,
   "id": "b069e3f8-877e-4643-b063-603bcb41c27a",
   "metadata": {},
   "outputs": [
    {
     "name": "stdout",
     "output_type": "stream",
     "text": [
      "Memory occupied by array is 32 Bytes\n"
     ]
    }
   ],
   "source": [
    "import numpy as np\n",
    "a = np.array([1,7,13,105])\n",
    "print(\"Memory occupied by array is %d Bytes\" %(a.size * a.itemsize))"
   ]
  },
  {
   "cell_type": "code",
   "execution_count": null,
   "id": "cee0c130-fa3a-438e-a22a-7a16f2eb3361",
   "metadata": {},
   "outputs": [],
   "source": []
  }
 ],
 "metadata": {
  "kernelspec": {
   "display_name": "Python 3 (ipykernel)",
   "language": "python",
   "name": "python3"
  },
  "language_info": {
   "codemirror_mode": {
    "name": "ipython",
    "version": 3
   },
   "file_extension": ".py",
   "mimetype": "text/x-python",
   "name": "python",
   "nbconvert_exporter": "python",
   "pygments_lexer": "ipython3",
   "version": "3.10.12"
  }
 },
 "nbformat": 4,
 "nbformat_minor": 5
}
